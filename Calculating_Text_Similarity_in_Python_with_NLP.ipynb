{
  "nbformat": 4,
  "nbformat_minor": 0,
  "metadata": {
    "colab": {
      "provenance": [],
      "authorship_tag": "ABX9TyOqKutZlI0WypSIMNDUGBfs",
      "include_colab_link": true
    },
    "kernelspec": {
      "name": "python3",
      "display_name": "Python 3"
    },
    "language_info": {
      "name": "python"
    }
  },
  "cells": [
    {
      "cell_type": "markdown",
      "metadata": {
        "id": "view-in-github",
        "colab_type": "text"
      },
      "source": [
        "<a href=\"https://colab.research.google.com/github/Sagar0120/paraphraser-and-detector/blob/main/Calculating_Text_Similarity_in_Python_with_NLP.ipynb\" target=\"_parent\"><img src=\"https://colab.research.google.com/assets/colab-badge.svg\" alt=\"Open In Colab\"/></a>"
      ]
    },
    {
      "cell_type": "code",
      "source": [
        "!pip install -U spacy\n",
        "!python -m spacy download en_core_web_lg"
      ],
      "metadata": {
        "colab": {
          "base_uri": "https://localhost:8080/"
        },
        "id": "2t1ncjem9gBw",
        "outputId": "7c881013-3ab5-4dc6-8cff-407ef04872b9"
      },
      "execution_count": null,
      "outputs": [
        {
          "output_type": "stream",
          "name": "stdout",
          "text": [
            "Looking in indexes: https://pypi.org/simple, https://us-python.pkg.dev/colab-wheels/public/simple/\n",
            "Requirement already satisfied: spacy in /usr/local/lib/python3.9/dist-packages (3.4.4)\n",
            "Collecting spacy\n",
            "  Downloading spacy-3.5.1-cp39-cp39-manylinux_2_17_x86_64.manylinux2014_x86_64.whl (6.6 MB)\n",
            "\u001b[2K     \u001b[90m━━━━━━━━━━━━━━━━━━━━━━━━━━━━━━━━━━━━━━━━\u001b[0m \u001b[32m6.6/6.6 MB\u001b[0m \u001b[31m79.4 MB/s\u001b[0m eta \u001b[36m0:00:00\u001b[0m\n",
            "\u001b[?25hRequirement already satisfied: typer<0.8.0,>=0.3.0 in /usr/local/lib/python3.9/dist-packages (from spacy) (0.7.0)\n",
            "Requirement already satisfied: setuptools in /usr/local/lib/python3.9/dist-packages (from spacy) (57.4.0)\n",
            "Requirement already satisfied: smart-open<7.0.0,>=5.2.1 in /usr/local/lib/python3.9/dist-packages (from spacy) (6.3.0)\n",
            "Requirement already satisfied: srsly<3.0.0,>=2.4.3 in /usr/local/lib/python3.9/dist-packages (from spacy) (2.4.6)\n",
            "Requirement already satisfied: murmurhash<1.1.0,>=0.28.0 in /usr/local/lib/python3.9/dist-packages (from spacy) (1.0.9)\n",
            "Requirement already satisfied: langcodes<4.0.0,>=3.2.0 in /usr/local/lib/python3.9/dist-packages (from spacy) (3.3.0)\n",
            "Requirement already satisfied: spacy-legacy<3.1.0,>=3.0.11 in /usr/local/lib/python3.9/dist-packages (from spacy) (3.0.12)\n",
            "Requirement already satisfied: requests<3.0.0,>=2.13.0 in /usr/local/lib/python3.9/dist-packages (from spacy) (2.25.1)\n",
            "Requirement already satisfied: packaging>=20.0 in /usr/local/lib/python3.9/dist-packages (from spacy) (23.0)\n",
            "Requirement already satisfied: spacy-loggers<2.0.0,>=1.0.0 in /usr/local/lib/python3.9/dist-packages (from spacy) (1.0.4)\n",
            "Requirement already satisfied: preshed<3.1.0,>=3.0.2 in /usr/local/lib/python3.9/dist-packages (from spacy) (3.0.8)\n",
            "Requirement already satisfied: catalogue<2.1.0,>=2.0.6 in /usr/local/lib/python3.9/dist-packages (from spacy) (2.0.8)\n",
            "Requirement already satisfied: tqdm<5.0.0,>=4.38.0 in /usr/local/lib/python3.9/dist-packages (from spacy) (4.65.0)\n",
            "Requirement already satisfied: thinc<8.2.0,>=8.1.8 in /usr/local/lib/python3.9/dist-packages (from spacy) (8.1.9)\n",
            "Requirement already satisfied: wasabi<1.2.0,>=0.9.1 in /usr/local/lib/python3.9/dist-packages (from spacy) (0.10.1)\n",
            "Requirement already satisfied: pydantic!=1.8,!=1.8.1,<1.11.0,>=1.7.4 in /usr/local/lib/python3.9/dist-packages (from spacy) (1.10.6)\n",
            "Requirement already satisfied: numpy>=1.15.0 in /usr/local/lib/python3.9/dist-packages (from spacy) (1.22.4)\n",
            "Requirement already satisfied: cymem<2.1.0,>=2.0.2 in /usr/local/lib/python3.9/dist-packages (from spacy) (2.0.7)\n",
            "Requirement already satisfied: jinja2 in /usr/local/lib/python3.9/dist-packages (from spacy) (3.1.2)\n",
            "Requirement already satisfied: pathy>=0.10.0 in /usr/local/lib/python3.9/dist-packages (from spacy) (0.10.1)\n",
            "Requirement already satisfied: typing-extensions>=4.2.0 in /usr/local/lib/python3.9/dist-packages (from pydantic!=1.8,!=1.8.1,<1.11.0,>=1.7.4->spacy) (4.5.0)\n",
            "Requirement already satisfied: certifi>=2017.4.17 in /usr/local/lib/python3.9/dist-packages (from requests<3.0.0,>=2.13.0->spacy) (2022.12.7)\n",
            "Requirement already satisfied: idna<3,>=2.5 in /usr/local/lib/python3.9/dist-packages (from requests<3.0.0,>=2.13.0->spacy) (2.10)\n",
            "Requirement already satisfied: chardet<5,>=3.0.2 in /usr/local/lib/python3.9/dist-packages (from requests<3.0.0,>=2.13.0->spacy) (4.0.0)\n",
            "Requirement already satisfied: urllib3<1.27,>=1.21.1 in /usr/local/lib/python3.9/dist-packages (from requests<3.0.0,>=2.13.0->spacy) (1.26.14)\n",
            "Requirement already satisfied: confection<1.0.0,>=0.0.1 in /usr/local/lib/python3.9/dist-packages (from thinc<8.2.0,>=8.1.8->spacy) (0.0.4)\n",
            "Requirement already satisfied: blis<0.8.0,>=0.7.8 in /usr/local/lib/python3.9/dist-packages (from thinc<8.2.0,>=8.1.8->spacy) (0.7.9)\n",
            "Requirement already satisfied: click<9.0.0,>=7.1.1 in /usr/local/lib/python3.9/dist-packages (from typer<0.8.0,>=0.3.0->spacy) (8.1.3)\n",
            "Requirement already satisfied: MarkupSafe>=2.0 in /usr/local/lib/python3.9/dist-packages (from jinja2->spacy) (2.1.2)\n",
            "Installing collected packages: spacy\n",
            "  Attempting uninstall: spacy\n",
            "    Found existing installation: spacy 3.4.4\n",
            "    Uninstalling spacy-3.4.4:\n",
            "      Successfully uninstalled spacy-3.4.4\n",
            "\u001b[31mERROR: pip's dependency resolver does not currently take into account all the packages that are installed. This behaviour is the source of the following dependency conflicts.\n",
            "en-core-web-sm 3.4.1 requires spacy<3.5.0,>=3.4.0, but you have spacy 3.5.1 which is incompatible.\u001b[0m\u001b[31m\n",
            "\u001b[0mSuccessfully installed spacy-3.5.1\n",
            "/usr/local/lib/python3.9/dist-packages/torch/cuda/__init__.py:497: UserWarning: Can't initialize NVML\n",
            "  warnings.warn(\"Can't initialize NVML\")\n",
            "2023-03-13 17:13:14.179976: W tensorflow/compiler/xla/stream_executor/platform/default/dso_loader.cc:64] Could not load dynamic library 'libnvinfer.so.7'; dlerror: libnvinfer.so.7: cannot open shared object file: No such file or directory; LD_LIBRARY_PATH: /usr/local/nvidia/lib:/usr/local/nvidia/lib64\n",
            "2023-03-13 17:13:14.180109: W tensorflow/compiler/xla/stream_executor/platform/default/dso_loader.cc:64] Could not load dynamic library 'libnvinfer_plugin.so.7'; dlerror: libnvinfer_plugin.so.7: cannot open shared object file: No such file or directory; LD_LIBRARY_PATH: /usr/local/nvidia/lib:/usr/local/nvidia/lib64\n",
            "2023-03-13 17:13:14.180132: W tensorflow/compiler/tf2tensorrt/utils/py_utils.cc:38] TF-TRT Warning: Cannot dlopen some TensorRT libraries. If you would like to use Nvidia GPU with TensorRT, please make sure the missing libraries mentioned above are installed properly.\n",
            "2023-03-13 17:13:16.601513: E tensorflow/compiler/xla/stream_executor/cuda/cuda_driver.cc:267] failed call to cuInit: CUDA_ERROR_NO_DEVICE: no CUDA-capable device is detected\n",
            "Looking in indexes: https://pypi.org/simple, https://us-python.pkg.dev/colab-wheels/public/simple/\n",
            "Collecting en-core-web-lg==3.5.0\n",
            "  Downloading https://github.com/explosion/spacy-models/releases/download/en_core_web_lg-3.5.0/en_core_web_lg-3.5.0-py3-none-any.whl (587.7 MB)\n",
            "\u001b[2K     \u001b[90m━━━━━━━━━━━━━━━━━━━━━━━━━━━━━━━━━━━━━━━\u001b[0m \u001b[32m587.7/587.7 MB\u001b[0m \u001b[31m2.4 MB/s\u001b[0m eta \u001b[36m0:00:00\u001b[0m\n",
            "\u001b[?25hRequirement already satisfied: spacy<3.6.0,>=3.5.0 in /usr/local/lib/python3.9/dist-packages (from en-core-web-lg==3.5.0) (3.5.1)\n",
            "Requirement already satisfied: typer<0.8.0,>=0.3.0 in /usr/local/lib/python3.9/dist-packages (from spacy<3.6.0,>=3.5.0->en-core-web-lg==3.5.0) (0.7.0)\n",
            "Requirement already satisfied: numpy>=1.15.0 in /usr/local/lib/python3.9/dist-packages (from spacy<3.6.0,>=3.5.0->en-core-web-lg==3.5.0) (1.22.4)\n",
            "Requirement already satisfied: catalogue<2.1.0,>=2.0.6 in /usr/local/lib/python3.9/dist-packages (from spacy<3.6.0,>=3.5.0->en-core-web-lg==3.5.0) (2.0.8)\n",
            "Requirement already satisfied: wasabi<1.2.0,>=0.9.1 in /usr/local/lib/python3.9/dist-packages (from spacy<3.6.0,>=3.5.0->en-core-web-lg==3.5.0) (0.10.1)\n",
            "Requirement already satisfied: murmurhash<1.1.0,>=0.28.0 in /usr/local/lib/python3.9/dist-packages (from spacy<3.6.0,>=3.5.0->en-core-web-lg==3.5.0) (1.0.9)\n",
            "Requirement already satisfied: setuptools in /usr/local/lib/python3.9/dist-packages (from spacy<3.6.0,>=3.5.0->en-core-web-lg==3.5.0) (57.4.0)\n",
            "Requirement already satisfied: spacy-legacy<3.1.0,>=3.0.11 in /usr/local/lib/python3.9/dist-packages (from spacy<3.6.0,>=3.5.0->en-core-web-lg==3.5.0) (3.0.12)\n",
            "Requirement already satisfied: thinc<8.2.0,>=8.1.8 in /usr/local/lib/python3.9/dist-packages (from spacy<3.6.0,>=3.5.0->en-core-web-lg==3.5.0) (8.1.9)\n",
            "Requirement already satisfied: spacy-loggers<2.0.0,>=1.0.0 in /usr/local/lib/python3.9/dist-packages (from spacy<3.6.0,>=3.5.0->en-core-web-lg==3.5.0) (1.0.4)\n",
            "Requirement already satisfied: smart-open<7.0.0,>=5.2.1 in /usr/local/lib/python3.9/dist-packages (from spacy<3.6.0,>=3.5.0->en-core-web-lg==3.5.0) (6.3.0)\n",
            "Requirement already satisfied: cymem<2.1.0,>=2.0.2 in /usr/local/lib/python3.9/dist-packages (from spacy<3.6.0,>=3.5.0->en-core-web-lg==3.5.0) (2.0.7)\n",
            "Requirement already satisfied: tqdm<5.0.0,>=4.38.0 in /usr/local/lib/python3.9/dist-packages (from spacy<3.6.0,>=3.5.0->en-core-web-lg==3.5.0) (4.65.0)\n",
            "Requirement already satisfied: pathy>=0.10.0 in /usr/local/lib/python3.9/dist-packages (from spacy<3.6.0,>=3.5.0->en-core-web-lg==3.5.0) (0.10.1)\n",
            "Requirement already satisfied: pydantic!=1.8,!=1.8.1,<1.11.0,>=1.7.4 in /usr/local/lib/python3.9/dist-packages (from spacy<3.6.0,>=3.5.0->en-core-web-lg==3.5.0) (1.10.6)\n",
            "Requirement already satisfied: packaging>=20.0 in /usr/local/lib/python3.9/dist-packages (from spacy<3.6.0,>=3.5.0->en-core-web-lg==3.5.0) (23.0)\n",
            "Requirement already satisfied: preshed<3.1.0,>=3.0.2 in /usr/local/lib/python3.9/dist-packages (from spacy<3.6.0,>=3.5.0->en-core-web-lg==3.5.0) (3.0.8)\n",
            "Requirement already satisfied: requests<3.0.0,>=2.13.0 in /usr/local/lib/python3.9/dist-packages (from spacy<3.6.0,>=3.5.0->en-core-web-lg==3.5.0) (2.25.1)\n",
            "Requirement already satisfied: srsly<3.0.0,>=2.4.3 in /usr/local/lib/python3.9/dist-packages (from spacy<3.6.0,>=3.5.0->en-core-web-lg==3.5.0) (2.4.6)\n",
            "Requirement already satisfied: jinja2 in /usr/local/lib/python3.9/dist-packages (from spacy<3.6.0,>=3.5.0->en-core-web-lg==3.5.0) (3.1.2)\n",
            "Requirement already satisfied: langcodes<4.0.0,>=3.2.0 in /usr/local/lib/python3.9/dist-packages (from spacy<3.6.0,>=3.5.0->en-core-web-lg==3.5.0) (3.3.0)\n",
            "Requirement already satisfied: typing-extensions>=4.2.0 in /usr/local/lib/python3.9/dist-packages (from pydantic!=1.8,!=1.8.1,<1.11.0,>=1.7.4->spacy<3.6.0,>=3.5.0->en-core-web-lg==3.5.0) (4.5.0)\n",
            "Requirement already satisfied: certifi>=2017.4.17 in /usr/local/lib/python3.9/dist-packages (from requests<3.0.0,>=2.13.0->spacy<3.6.0,>=3.5.0->en-core-web-lg==3.5.0) (2022.12.7)\n",
            "Requirement already satisfied: urllib3<1.27,>=1.21.1 in /usr/local/lib/python3.9/dist-packages (from requests<3.0.0,>=2.13.0->spacy<3.6.0,>=3.5.0->en-core-web-lg==3.5.0) (1.26.14)\n",
            "Requirement already satisfied: chardet<5,>=3.0.2 in /usr/local/lib/python3.9/dist-packages (from requests<3.0.0,>=2.13.0->spacy<3.6.0,>=3.5.0->en-core-web-lg==3.5.0) (4.0.0)\n",
            "Requirement already satisfied: idna<3,>=2.5 in /usr/local/lib/python3.9/dist-packages (from requests<3.0.0,>=2.13.0->spacy<3.6.0,>=3.5.0->en-core-web-lg==3.5.0) (2.10)\n",
            "Requirement already satisfied: blis<0.8.0,>=0.7.8 in /usr/local/lib/python3.9/dist-packages (from thinc<8.2.0,>=8.1.8->spacy<3.6.0,>=3.5.0->en-core-web-lg==3.5.0) (0.7.9)\n",
            "Requirement already satisfied: confection<1.0.0,>=0.0.1 in /usr/local/lib/python3.9/dist-packages (from thinc<8.2.0,>=8.1.8->spacy<3.6.0,>=3.5.0->en-core-web-lg==3.5.0) (0.0.4)\n",
            "Requirement already satisfied: click<9.0.0,>=7.1.1 in /usr/local/lib/python3.9/dist-packages (from typer<0.8.0,>=0.3.0->spacy<3.6.0,>=3.5.0->en-core-web-lg==3.5.0) (8.1.3)\n",
            "Requirement already satisfied: MarkupSafe>=2.0 in /usr/local/lib/python3.9/dist-packages (from jinja2->spacy<3.6.0,>=3.5.0->en-core-web-lg==3.5.0) (2.1.2)\n",
            "Installing collected packages: en-core-web-lg\n",
            "Successfully installed en-core-web-lg-3.5.0\n",
            "\u001b[38;5;2m✔ Download and installation successful\u001b[0m\n",
            "You can now load the package via spacy.load('en_core_web_lg')\n"
          ]
        }
      ]
    },
    {
      "cell_type": "code",
      "source": [
        "import spacy"
      ],
      "metadata": {
        "id": "k7F72U6B9gzp"
      },
      "execution_count": null,
      "outputs": []
    },
    {
      "cell_type": "code",
      "source": [
        "nlp = spacy.load(\"en_core_web_lg\")"
      ],
      "metadata": {
        "colab": {
          "base_uri": "https://localhost:8080/"
        },
        "id": "8x3w_pG99sxg",
        "outputId": "97e1bf9d-4086-4126-f5df-0a4366a595aa"
      },
      "execution_count": null,
      "outputs": [
        {
          "output_type": "stream",
          "name": "stderr",
          "text": [
            "/usr/local/lib/python3.9/dist-packages/spacy/util.py:877: UserWarning: [W095] Model 'en_core_web_lg' (3.5.0) was trained with spaCy v3.5 and may not be 100% compatible with the current version (3.4.4). If you see errors or degraded performance, download a newer compatible model or retrain your custom model with the current spaCy version. For more details and available updates, run: python -m spacy validate\n",
            "  warnings.warn(warn_msg)\n"
          ]
        }
      ]
    },
    {
      "cell_type": "code",
      "source": [
        "word1 = \"red\"\n",
        "word2 = \"walking\"\n",
        "word3 = \"color\"\n",
        "word4 = \"yellow\"\n",
        "word5 = \"blue\"\n",
        "\n",
        "word1_nlp = nlp.vocab[word1]\n",
        "word2_nlp = nlp.vocab[word2]\n",
        "word3_nlp = nlp.vocab[word3]\n",
        "word4_nlp = nlp.vocab[word4]\n",
        "word5_nlp = nlp.vocab[word5]"
      ],
      "metadata": {
        "id": "nUMEmaz2-QbR"
      },
      "execution_count": null,
      "outputs": []
    },
    {
      "cell_type": "code",
      "source": [
        "print(\"Similiarity of word \\\"{}\\\" with word \\\"{}\\\": {}\".format(word1, word1, word1_nlp.similarity(word1_nlp)))\n",
        "print(\"Similiarity of word \\\"{}\\\" with word \\\"{}\\\": {}\".format(word1, word2, word1_nlp.similarity(word2_nlp)))\n",
        "print(\"Similiarity of word \\\"{}\\\" with word \\\"{}\\\": {}\".format(word1, word3, word1_nlp.similarity(word3_nlp)))\n",
        "print(\"Similiarity of word \\\"{}\\\" with word \\\"{}\\\": {}\".format(word1, word4, word1_nlp.similarity(word4_nlp)))\n",
        "print(\"Similiarity of word \\\"{}\\\" with word \\\"{}\\\": {}\".format(word1, word5, word1_nlp.similarity(word5_nlp)))"
      ],
      "metadata": {
        "colab": {
          "base_uri": "https://localhost:8080/"
        },
        "id": "17OivW6v-VwN",
        "outputId": "cf97443c-6a71-4d4d-bcac-404ad102e61c"
      },
      "execution_count": null,
      "outputs": [
        {
          "output_type": "stream",
          "name": "stdout",
          "text": [
            "Similiarity of word \"red\" with word \"red\": 1.0\n",
            "Similiarity of word \"red\" with word \"walking\": 0.18171407282352448\n",
            "Similiarity of word \"red\" with word \"color\": 0.515526533126831\n",
            "Similiarity of word \"red\" with word \"yellow\": 0.8282849192619324\n",
            "Similiarity of word \"red\" with word \"blue\": 0.8113976716995239\n"
          ]
        }
      ]
    },
    {
      "cell_type": "code",
      "source": [
        "phrase1 = \"I believe in the God of the Bible\"\n",
        "phrase2 = \"I trust in a higher power of Christianity\"\n",
        "phrase3 = \"This weekend John will drink a beer\"\n",
        "\n",
        "phrase1_nlp = nlp(phrase1)\n",
        "phrase2_nlp = nlp(phrase2)\n",
        "phrase3_nlp = nlp(phrase3)"
      ],
      "metadata": {
        "id": "PVI4jFPn-xe_"
      },
      "execution_count": null,
      "outputs": []
    },
    {
      "cell_type": "code",
      "source": [
        "print(\"Similiarity of \\\"{}\\\" with \\\"{}\\\": {}\".format(phrase1, phrase2, phrase1_nlp.similarity(phrase2_nlp)))\n",
        "print(\"Similiarity of \\\"{}\\\" with \\\"{}\\\": {}\".format(phrase1, phrase3, phrase1_nlp.similarity(phrase3_nlp)))\n",
        "print(\"Similiarity of \\\"{}\\\" with \\\"{}\\\": {}\".format(phrase2, phrase3, phrase2_nlp.similarity(phrase3_nlp)))"
      ],
      "metadata": {
        "colab": {
          "base_uri": "https://localhost:8080/"
        },
        "id": "tlHeGM-bPm7i",
        "outputId": "01eed720-b7af-49dd-b24c-0e544f4d3146"
      },
      "execution_count": null,
      "outputs": [
        {
          "output_type": "stream",
          "name": "stdout",
          "text": [
            "Similiarity of \"I believe in the God of the Bible\" with \"I trust in a higher power of Christianity\": 0.8668602356381389\n",
            "Similiarity of \"I believe in the God of the Bible\" with \"This weekend John will drink a beer\": 0.4052990217577357\n",
            "Similiarity of \"I trust in a higher power of Christianity\" with \"This weekend John will drink a beer\": 0.5301483997521251\n"
          ]
        }
      ]
    },
    {
      "cell_type": "code",
      "source": [
        "phrase1 = \"I don't know whether I want you.\"\n",
        "phrase2 = \"This is not the weather for it. I warned you.\"\n",
        "phrase3 = \"Today is an awful rainy day and I told you so.\"\n",
        "\n",
        "phrase1_nlp = nlp(phrase1)\n",
        "phrase2_nlp = nlp(phrase2)\n",
        "phrase3_nlp = nlp(phrase3)"
      ],
      "metadata": {
        "id": "suZmDcK8PpxH"
      },
      "execution_count": null,
      "outputs": []
    },
    {
      "cell_type": "code",
      "source": [
        "print(\"Similiarity of \\\"{}\\\" with \\\"{}\\\": {}\".format(phrase1, phrase2, phrase1_nlp.similarity(phrase2_nlp)))\n",
        "print(\"Similiarity of \\\"{}\\\" with \\\"{}\\\": {}\".format(phrase1, phrase3, phrase1_nlp.similarity(phrase3_nlp)))\n",
        "print(\"Similiarity of \\\"{}\\\" with \\\"{}\\\": {}\".format(phrase2, phrase3, phrase2_nlp.similarity(phrase3_nlp)))"
      ],
      "metadata": {
        "colab": {
          "base_uri": "https://localhost:8080/"
        },
        "id": "XZd2z4MSPtK8",
        "outputId": "0056a391-5769-4edb-c86a-c551ca5ff53c"
      },
      "execution_count": null,
      "outputs": [
        {
          "output_type": "stream",
          "name": "stdout",
          "text": [
            "Similiarity of \"I don't know whether I want you.\" with \"This is not the weather for it. I warned you.\": 0.702873944088662\n",
            "Similiarity of \"I don't know whether I want you.\" with \"Today is an awful rainy day and I told you so.\": 0.7080666553451508\n",
            "Similiarity of \"This is not the weather for it. I warned you.\" with \"Today is an awful rainy day and I told you so.\": 0.8598345854247166\n"
          ]
        }
      ]
    },
    {
      "cell_type": "code",
      "source": [
        "phrase1_verbs = \" \".join([\"\\\"\" + token.lemma_ + \"\\\"\" for token in phrase1_nlp if token.pos_ == \"VERB\"])\n",
        "phrase1_adjs = \" \".join([\"\\\"\" + token.lemma_ + \"\\\"\" for token in phrase1_nlp if token.pos_ == \"ADJ\"])\n",
        "phrase1_nouns = \" \".join([\"\\\"\" + token.lemma_ + \"\\\"\" for token in phrase1_nlp if token.pos_ == \"NOUN\"])\n",
        "\n",
        "phrase2_verbs = \" \".join([\"\\\"\" + token.lemma_ + \"\\\"\" for token in phrase2_nlp if token.pos_ == \"VERB\"])\n",
        "phrase2_adjs = \" \".join([\"\\\"\" + token.lemma_ + \"\\\"\" for token in phrase2_nlp if token.pos_ == \"ADJ\"])\n",
        "phrase2_nouns = \" \".join([\"\\\"\" + token.lemma_ + \"\\\"\" for token in phrase2_nlp if token.pos_ == \"NOUN\"])\n",
        "\n",
        "phrase3_verbs = \" \".join([\"\\\"\" + token.lemma_ + \"\\\"\" for token in phrase3_nlp if token.pos_ == \"VERB\"])\n",
        "phrase3_adjs = \" \".join([\"\\\"\" + token.lemma_ + \"\\\"\" for token in phrase3_nlp if token.pos_ == \"ADJ\"])\n",
        "phrase3_nouns = \" \".join([\"\\\"\" + token.lemma_ + \"\\\"\" for token in phrase3_nlp if token.pos_ == \"NOUN\"])"
      ],
      "metadata": {
        "id": "8xiLtYF_Pw5K"
      },
      "execution_count": null,
      "outputs": []
    },
    {
      "cell_type": "code",
      "source": [
        "print(\"Verbs of \\\"{}\\\": {}\".format(phrase1, phrase1_verbs))\n",
        "print(\"Adjectives of \\\"{}\\\": {}\".format(phrase1, phrase1_adjs))\n",
        "print(\"Nouns of \\\"{}\\\": {}\\n\".format(phrase1, phrase1_nouns))\n",
        "\n",
        "print(\"Verbs of \\\"{}\\\": {}\".format(phrase2, phrase2_verbs))\n",
        "print(\"Adjectives of \\\"{}\\\": {}\".format(phrase2, phrase2_adjs))\n",
        "print(\"Nouns of \\\"{}\\\": {}\\n\".format(phrase2, phrase2_nouns))\n",
        "\n",
        "print(\"Verbs of \\\"{}\\\": {}\".format(phrase3, phrase3_verbs))\n",
        "print(\"Adjectives of \\\"{}\\\": {}\".format(phrase3, phrase3_adjs))\n",
        "print(\"Nouns of \\\"{}\\\": {}\".format(phrase3, phrase3_nouns))"
      ],
      "metadata": {
        "colab": {
          "base_uri": "https://localhost:8080/"
        },
        "id": "brPsy8wtP4J_",
        "outputId": "33a64009-19ca-43f0-f14e-e02ce35dc3df"
      },
      "execution_count": null,
      "outputs": [
        {
          "output_type": "stream",
          "name": "stdout",
          "text": [
            "Verbs of \"I don't know whether I want you.\": \"know\" \"want\"\n",
            "Adjectives of \"I don't know whether I want you.\": \n",
            "Nouns of \"I don't know whether I want you.\": \n",
            "\n",
            "Verbs of \"This is not the weather for it. I warned you.\": \"warn\"\n",
            "Adjectives of \"This is not the weather for it. I warned you.\": \n",
            "Nouns of \"This is not the weather for it. I warned you.\": \"weather\"\n",
            "\n",
            "Verbs of \"Today is an awful rainy day and I told you so.\": \"tell\"\n",
            "Adjectives of \"Today is an awful rainy day and I told you so.\": \"awful\" \"rainy\"\n",
            "Nouns of \"Today is an awful rainy day and I told you so.\": \"today\" \"day\"\n"
          ]
        }
      ]
    },
    {
      "cell_type": "code",
      "source": [
        "print(\"Similiarity of the verbs of \\\"{}\\\" with \\\"{}\\\": {}\".format(phrase1, phrase2, nlp(phrase1_verbs).similarity(nlp(phrase2_verbs))))\n",
        "print(\"Similiarity of the verbs of \\\"{}\\\" with \\\"{}\\\": {}\".format(phrase1, phrase3, nlp(phrase1_verbs).similarity(nlp(phrase3_verbs))))\n",
        "print(\"Similiarity of the verbs of \\\"{}\\\" with \\\"{}\\\": {}\\n\".format(phrase2, phrase3, nlp(phrase2_verbs).similarity(nlp(phrase3_verbs))))\n",
        "\n",
        "print(\"Similiarity of the adjectives of \\\"{}\\\" with \\\"{}\\\": {}\".format(phrase1, phrase2, nlp(phrase1_adjs).similarity(nlp(phrase2_adjs))))\n",
        "print(\"Similiarity of the adjectives of \\\"{}\\\" with \\\"{}\\\": {}\".format(phrase1, phrase3, nlp(phrase1_adjs).similarity(nlp(phrase3_adjs))))\n",
        "print(\"Similiarity of the adjectives of \\\"{}\\\" with \\\"{}\\\": {}\\n\".format(phrase2, phrase3, nlp(phrase2_adjs).similarity(nlp(phrase3_adjs))))\n",
        "\n",
        "print(\"Similiarity of the nouns of \\\"{}\\\" with \\\"{}\\\": {}\".format(phrase1, phrase2, nlp(phrase1_nouns).similarity(nlp(phrase2_nouns))))\n",
        "print(\"Similiarity of the nouns of \\\"{}\\\" with \\\"{}\\\": {}\".format(phrase1, phrase3, nlp(phrase1_nouns).similarity(nlp(phrase3_nouns))))\n",
        "print(\"Similiarity of the nouns of \\\"{}\\\" with \\\"{}\\\": {}\".format(phrase2, phrase3, nlp(phrase2_nouns).similarity(nlp(phrase3_nouns))))"
      ],
      "metadata": {
        "colab": {
          "base_uri": "https://localhost:8080/"
        },
        "id": "CMQ0Gj1EP7XS",
        "outputId": "86982ec1-b673-40ad-a21b-d171f1edfc7b"
      },
      "execution_count": null,
      "outputs": [
        {
          "output_type": "stream",
          "name": "stdout",
          "text": [
            "Similiarity of the verbs of \"I don't know whether I want you.\" with \"This is not the weather for it. I warned you.\": 0.9646898704609104\n",
            "Similiarity of the verbs of \"I don't know whether I want you.\" with \"Today is an awful rainy day and I told you so.\": 0.9771885703687594\n",
            "Similiarity of the verbs of \"This is not the weather for it. I warned you.\" with \"Today is an awful rainy day and I told you so.\": 0.9689838961849674\n",
            "\n",
            "Similiarity of the adjectives of \"I don't know whether I want you.\" with \"This is not the weather for it. I warned you.\": 1.0\n",
            "Similiarity of the adjectives of \"I don't know whether I want you.\" with \"Today is an awful rainy day and I told you so.\": 0.0\n",
            "Similiarity of the adjectives of \"This is not the weather for it. I warned you.\" with \"Today is an awful rainy day and I told you so.\": 0.0\n",
            "\n",
            "Similiarity of the nouns of \"I don't know whether I want you.\" with \"This is not the weather for it. I warned you.\": 0.0\n",
            "Similiarity of the nouns of \"I don't know whether I want you.\" with \"Today is an awful rainy day and I told you so.\": 0.0\n",
            "Similiarity of the nouns of \"This is not the weather for it. I warned you.\" with \"Today is an awful rainy day and I told you so.\": 0.9628292097071818\n"
          ]
        },
        {
          "output_type": "stream",
          "name": "stderr",
          "text": [
            "<ipython-input-26-a6cbd0d5144c>:6: UserWarning: [W008] Evaluating Doc.similarity based on empty vectors.\n",
            "  print(\"Similiarity of the adjectives of \\\"{}\\\" with \\\"{}\\\": {}\".format(phrase1, phrase3, nlp(phrase1_adjs).similarity(nlp(phrase3_adjs))))\n",
            "<ipython-input-26-a6cbd0d5144c>:7: UserWarning: [W008] Evaluating Doc.similarity based on empty vectors.\n",
            "  print(\"Similiarity of the adjectives of \\\"{}\\\" with \\\"{}\\\": {}\\n\".format(phrase2, phrase3, nlp(phrase2_adjs).similarity(nlp(phrase3_adjs))))\n",
            "<ipython-input-26-a6cbd0d5144c>:9: UserWarning: [W008] Evaluating Doc.similarity based on empty vectors.\n",
            "  print(\"Similiarity of the nouns of \\\"{}\\\" with \\\"{}\\\": {}\".format(phrase1, phrase2, nlp(phrase1_nouns).similarity(nlp(phrase2_nouns))))\n",
            "<ipython-input-26-a6cbd0d5144c>:10: UserWarning: [W008] Evaluating Doc.similarity based on empty vectors.\n",
            "  print(\"Similiarity of the nouns of \\\"{}\\\" with \\\"{}\\\": {}\".format(phrase1, phrase3, nlp(phrase1_nouns).similarity(nlp(phrase3_nouns))))\n"
          ]
        }
      ]
    },
    {
      "cell_type": "code",
      "source": [],
      "metadata": {
        "id": "qCBTXepCP-4p"
      },
      "execution_count": null,
      "outputs": []
    }
  ]
}